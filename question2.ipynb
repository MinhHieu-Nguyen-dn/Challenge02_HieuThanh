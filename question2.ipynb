{
 "cells": [
  {
   "cell_type": "markdown",
   "metadata": {},
   "source": [
    "### Read and save all FILENAMES"
   ]
  },
  {
   "cell_type": "code",
   "execution_count": 18,
   "metadata": {},
   "outputs": [
    {
     "data": {
      "text/plain": [
       "['2000111_NguyenVanAn_3B.jpg',\n",
       " '2000112_LePhanBinh_3B.jpg',\n",
       " '2000113_TranDan_3B.jpg',\n",
       " '2000114_PhanNhanHy_3B.jpg',\n",
       " '2000115_VoMinh_3B.jpg',\n",
       " '2000116_TrinhNgoMai_3B.jpg',\n",
       " '2000117_DinhThiHao_3B.jpg',\n",
       " '2000118_TranHao_3B.jpg',\n",
       " '2000119_LeDinhKhai_3B.jpg',\n",
       " '2000120_NgoVanLinh_3B.jpg']"
      ]
     },
     "execution_count": 18,
     "metadata": {},
     "output_type": "execute_result"
    }
   ],
   "source": [
    "import os\n",
    "fn_asm = os.listdir('./data')\n",
    "fn_ans = os.listdir('./answer')\n",
    "\n",
    "fn_asm"
   ]
  },
  {
   "cell_type": "markdown",
   "metadata": {},
   "source": [
    "### Split the filenames into columns (lists)"
   ]
  },
  {
   "cell_type": "code",
   "execution_count": 22,
   "metadata": {},
   "outputs": [],
   "source": [
    "def split_name(fullname: str):\n",
    "    position = []\n",
    "    for i in range(len(fullname)):\n",
    "        if fullname[i].isupper():\n",
    "            position.append(i)\n",
    "            \n",
    "    sname = fullname[:position[1]]\n",
    "    fname = fullname[position[-1]:]\n",
    "    \n",
    "    return sname, fname"
   ]
  },
  {
   "cell_type": "code",
   "execution_count": 24,
   "metadata": {},
   "outputs": [],
   "source": [
    "StudentID, Surname, Firstname, Code = [], [], [], []\n",
    "\n",
    "for asm in fn_asm:\n",
    "    std_id = asm[:asm.index('_')]\n",
    "    rem = asm[asm.index('_') + 1:]\n",
    "    fullname = rem[:rem.index('_')]\n",
    "    sname, fname = split_name(fullname)\n",
    "    code = rem[rem.index('_') + 1 : rem.index('.')]\n",
    "    \n",
    "    StudentID.append(std_id)\n",
    "    Code.append(code)\n",
    "    Surname.append(sname)\n",
    "    Firstname.append(fname)"
   ]
  },
  {
   "cell_type": "markdown",
   "metadata": {},
   "source": [
    "### Save into a CSV file"
   ]
  },
  {
   "cell_type": "code",
   "execution_count": 30,
   "metadata": {},
   "outputs": [],
   "source": [
    "import pandas as pd\n",
    "\n",
    "stds_df = pd.DataFrame(columns = ['StudentID', 'Surname', 'Firstname', 'Code'])\n",
    "stds_df['StudentID'] = StudentID\n",
    "stds_df['Surname'] = Surname\n",
    "stds_df['Firstname'] = Firstname\n",
    "stds_df['Code'] = Code\n",
    "\n",
    "student_df.to_csv('student.csv', index_label = False)"
   ]
  },
  {
   "cell_type": "code",
   "execution_count": 31,
   "metadata": {},
   "outputs": [
    {
     "data": {
      "text/html": [
       "<div>\n",
       "<style scoped>\n",
       "    .dataframe tbody tr th:only-of-type {\n",
       "        vertical-align: middle;\n",
       "    }\n",
       "\n",
       "    .dataframe tbody tr th {\n",
       "        vertical-align: top;\n",
       "    }\n",
       "\n",
       "    .dataframe thead th {\n",
       "        text-align: right;\n",
       "    }\n",
       "</style>\n",
       "<table border=\"1\" class=\"dataframe\">\n",
       "  <thead>\n",
       "    <tr style=\"text-align: right;\">\n",
       "      <th></th>\n",
       "      <th>StudentID</th>\n",
       "      <th>Surname</th>\n",
       "      <th>Firstname</th>\n",
       "      <th>Code</th>\n",
       "    </tr>\n",
       "  </thead>\n",
       "  <tbody>\n",
       "    <tr>\n",
       "      <th>0</th>\n",
       "      <td>2000111</td>\n",
       "      <td>Nguyen</td>\n",
       "      <td>An</td>\n",
       "      <td>3B</td>\n",
       "    </tr>\n",
       "    <tr>\n",
       "      <th>1</th>\n",
       "      <td>2000112</td>\n",
       "      <td>Le</td>\n",
       "      <td>Binh</td>\n",
       "      <td>3B</td>\n",
       "    </tr>\n",
       "    <tr>\n",
       "      <th>2</th>\n",
       "      <td>2000113</td>\n",
       "      <td>Tran</td>\n",
       "      <td>Dan</td>\n",
       "      <td>3B</td>\n",
       "    </tr>\n",
       "    <tr>\n",
       "      <th>3</th>\n",
       "      <td>2000114</td>\n",
       "      <td>Phan</td>\n",
       "      <td>Hy</td>\n",
       "      <td>3B</td>\n",
       "    </tr>\n",
       "    <tr>\n",
       "      <th>4</th>\n",
       "      <td>2000115</td>\n",
       "      <td>Vo</td>\n",
       "      <td>Minh</td>\n",
       "      <td>3B</td>\n",
       "    </tr>\n",
       "    <tr>\n",
       "      <th>5</th>\n",
       "      <td>2000116</td>\n",
       "      <td>Trinh</td>\n",
       "      <td>Mai</td>\n",
       "      <td>3B</td>\n",
       "    </tr>\n",
       "    <tr>\n",
       "      <th>6</th>\n",
       "      <td>2000117</td>\n",
       "      <td>Dinh</td>\n",
       "      <td>Hao</td>\n",
       "      <td>3B</td>\n",
       "    </tr>\n",
       "    <tr>\n",
       "      <th>7</th>\n",
       "      <td>2000118</td>\n",
       "      <td>Tran</td>\n",
       "      <td>Hao</td>\n",
       "      <td>3B</td>\n",
       "    </tr>\n",
       "    <tr>\n",
       "      <th>8</th>\n",
       "      <td>2000119</td>\n",
       "      <td>Le</td>\n",
       "      <td>Khai</td>\n",
       "      <td>3B</td>\n",
       "    </tr>\n",
       "    <tr>\n",
       "      <th>9</th>\n",
       "      <td>2000120</td>\n",
       "      <td>Ngo</td>\n",
       "      <td>Linh</td>\n",
       "      <td>3B</td>\n",
       "    </tr>\n",
       "  </tbody>\n",
       "</table>\n",
       "</div>"
      ],
      "text/plain": [
       "   StudentID Surname Firstname Code\n",
       "0    2000111  Nguyen        An   3B\n",
       "1    2000112      Le      Binh   3B\n",
       "2    2000113    Tran       Dan   3B\n",
       "3    2000114    Phan        Hy   3B\n",
       "4    2000115      Vo      Minh   3B\n",
       "5    2000116   Trinh       Mai   3B\n",
       "6    2000117    Dinh       Hao   3B\n",
       "7    2000118    Tran       Hao   3B\n",
       "8    2000119      Le      Khai   3B\n",
       "9    2000120     Ngo      Linh   3B"
      ]
     },
     "execution_count": 31,
     "metadata": {},
     "output_type": "execute_result"
    }
   ],
   "source": [
    "test = pd.read_csv('student.csv')\n",
    "\n",
    "test"
   ]
  }
 ],
 "metadata": {
  "kernelspec": {
   "display_name": "PyCharm (Intro_CompSci)",
   "language": "python",
   "name": "pycharm-74bda172"
  },
  "language_info": {
   "codemirror_mode": {
    "name": "ipython",
    "version": 3
   },
   "file_extension": ".py",
   "mimetype": "text/x-python",
   "name": "python",
   "nbconvert_exporter": "python",
   "pygments_lexer": "ipython3",
   "version": "3.8.5"
  }
 },
 "nbformat": 4,
 "nbformat_minor": 4
}
