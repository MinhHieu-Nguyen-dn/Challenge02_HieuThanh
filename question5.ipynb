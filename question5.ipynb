{
 "cells": [
  {
   "cell_type": "markdown",
   "metadata": {},
   "source": [
    "### Work with answer folder: read file, save all correct answers of each code into a dictionary {code: [key]}"
   ]
  },
  {
   "cell_type": "code",
   "execution_count": 1,
   "metadata": {},
   "outputs": [],
   "source": [
    "import os\n",
    "import cv2\n",
    "from skimage.io import imread, imshow\n",
    "import numpy as np\n",
    "import pandas as pd"
   ]
  },
  {
   "cell_type": "code",
   "execution_count": 2,
   "metadata": {},
   "outputs": [],
   "source": [
    "fn_asm = os.listdir('./data')\n",
    "fn_ans = os.listdir('./answer')\n",
    "\n",
    "keys_dict = {}"
   ]
  },
  {
   "cell_type": "code",
   "execution_count": 3,
   "metadata": {},
   "outputs": [],
   "source": [
    "def get_5choices(box5, all_answers):\n",
    "    box5 = cv2.cvtColor(box5, cv2.COLOR_BGR2GRAY)\n",
    "\n",
    "    _, thresh = cv2.threshold(box5, 0, 255, cv2.THRESH_BINARY_INV)\n",
    "    cnts, hierarychy = cv2.findContours(thresh, cv2.RETR_TREE, cv2.CHAIN_APPROX_SIMPLE)\n",
    "\n",
    "    choices = []\n",
    "\n",
    "    for cnt in cnts:\n",
    "        area = cv2.contourArea(cnt)\n",
    "        if area > 100:\n",
    "            center = np.round(np.mean(cnt, axis=0)[0]).astype(int)\n",
    "            choices.append(center)\n",
    "\n",
    "    choices.sort(key=lambda x:x[1])\n",
    "    \n",
    "    for choice in choices:\n",
    "        x = choice[0]\n",
    "        if 200 < x < 300:\n",
    "            all_answers.append('A')\n",
    "        elif 300 < x < 400:\n",
    "            all_answers.append('B')\n",
    "        elif 400 < x < 500:\n",
    "            all_answers.append('C')\n",
    "        elif 500 < x < 600:\n",
    "            all_answers.append('D')\n",
    "        elif 600 < x < 700:\n",
    "            all_answers.append('E')"
   ]
  },
  {
   "cell_type": "code",
   "execution_count": 4,
   "metadata": {},
   "outputs": [],
   "source": [
    "def get_full_choices(image):\n",
    "    crop = image[690:2800, 430:2100]\n",
    "    height = 300\n",
    "    width = 740\n",
    "    step_ver = 40\n",
    "    step_hor = 140\n",
    "\n",
    "    start_hor = 0\n",
    "    index = 0\n",
    "    all_answers = []\n",
    "\n",
    "    for col in range(2):\n",
    "        start_ver = 0\n",
    "        for row in range(6):\n",
    "            index += 1\n",
    "            get_5choices(crop[start_ver:start_ver + height, start_hor:start_hor + width], all_answers)\n",
    "            start_ver = start_ver + height + step_ver\n",
    "        start_hor = start_hor + width + step_hor\n",
    "        \n",
    "    return all_answers"
   ]
  },
  {
   "cell_type": "code",
   "execution_count": 5,
   "metadata": {},
   "outputs": [],
   "source": [
    "\n",
    "for fn in fn_ans:\n",
    "    code = fn[:-4]\n",
    "    path = './answer/' + fn\n",
    "    key_img = imread(path)\n",
    "    correct_ans = get_full_choices(key_img)\n",
    "    \n",
    "    keys_dict[code] = correct_ans"
   ]
  },
  {
   "cell_type": "markdown",
   "metadata": {},
   "source": [
    "### Loop through all students' sheets and compare with the keys to calculate grades"
   ]
  },
  {
   "cell_type": "code",
   "execution_count": 6,
   "metadata": {},
   "outputs": [],
   "source": [
    "def grading(choices, code):\n",
    "    global keys_dict\n",
    "    keys = keys_dict[code]\n",
    "    \n",
    "    correct_answers = len([i for i,j in zip(choices, keys) if i == j])\n",
    "    \n",
    "    return round(correct_answers/len(choices), 2)*10"
   ]
  },
  {
   "cell_type": "code",
   "execution_count": 7,
   "metadata": {},
   "outputs": [],
   "source": [
    "all_id = []\n",
    "grades = []\n",
    "\n",
    "for asm in fn_asm:\n",
    "    std_id = asm[:asm.index('_')]\n",
    "    rem = asm[asm.index('_') + 1:]\n",
    "    fullname = rem[:rem.index('_')]\n",
    "#     sname, fname = split_name(fullname)\n",
    "    code = rem[rem.index('_') + 1 : rem.index('.')]\n",
    "    \n",
    "    path = './data/' + asm\n",
    "    sheet = imread(path)\n",
    "    full_choices = get_full_choices(sheet)\n",
    "    \n",
    "    all_id.append(std_id)\n",
    "    grades.append(grading(full_choices, code))"
   ]
  },
  {
   "cell_type": "markdown",
   "metadata": {},
   "source": [
    "### Create dataframe to save the result: 2 columns \"Student ID\" and \"Grades\""
   ]
  },
  {
   "cell_type": "code",
   "execution_count": 8,
   "metadata": {},
   "outputs": [],
   "source": [
    "df_grades = pd.DataFrame(columns=['Student ID', 'Grades'], index=range(1, len(fn_asm)+1))\n",
    "df_grades['Student ID'] = all_id\n",
    "df_grades['Grades'] = grades\n",
    "\n",
    "df_grades.to_csv('grading.csv')"
   ]
  }
 ],
 "metadata": {
  "kernelspec": {
   "display_name": "PyCharm (Intro_CompSci)",
   "language": "python",
   "name": "pycharm-74bda172"
  },
  "language_info": {
   "codemirror_mode": {
    "name": "ipython",
    "version": 3
   },
   "file_extension": ".py",
   "mimetype": "text/x-python",
   "name": "python",
   "nbconvert_exporter": "python",
   "pygments_lexer": "ipython3",
   "version": "3.8.5"
  }
 },
 "nbformat": 4,
 "nbformat_minor": 4
}
