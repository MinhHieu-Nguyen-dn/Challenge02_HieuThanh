{
 "cells": [
  {
   "cell_type": "markdown",
   "metadata": {},
   "source": [
    "### Work with answer folder: read file, save all correct answers of each code into a dictionary {code: [key]}"
   ]
  },
  {
   "cell_type": "code",
   "execution_count": 1,
   "metadata": {},
   "outputs": [],
   "source": [
    "import os\n",
    "import cv2\n",
    "from skimage.io import imread, imshow\n",
    "import numpy as np\n",
    "import pandas as pd"
   ]
  },
  {
   "cell_type": "code",
   "execution_count": 2,
   "metadata": {},
   "outputs": [],
   "source": [
    "fn_asm = os.listdir('./data')\n",
    "fn_ans = os.listdir('./answer')\n",
    "\n",
    "keys_dict = {}"
   ]
  },
  {
   "cell_type": "code",
   "execution_count": 3,
   "metadata": {},
   "outputs": [],
   "source": [
    "def get_5choices(box5, all_answers):\n",
    "    box5 = cv2.cvtColor(box5, cv2.COLOR_BGR2GRAY)\n",
    "\n",
    "    _, thresh = cv2.threshold(box5, 0, 255, cv2.THRESH_BINARY_INV)\n",
    "    cnts, hierarychy = cv2.findContours(thresh, cv2.RETR_TREE, cv2.CHAIN_APPROX_SIMPLE)\n",
    "\n",
    "    choices = []\n",
    "\n",
    "    for cnt in cnts:\n",
    "        area = cv2.contourArea(cnt)\n",
    "        if area > 100:\n",
    "            center = np.round(np.mean(cnt, axis=0)[0]).astype(int)\n",
    "            choices.append(center)\n",
    "\n",
    "    choices.sort(key=lambda x:x[1])\n",
    "    \n",
    "    for choice in choices:\n",
    "        x = choice[0]\n",
    "        if 200 < x < 300:\n",
    "            all_answers.append('A')\n",
    "        elif 300 < x < 400:\n",
    "            all_answers.append('B')\n",
    "        elif 400 < x < 500:\n",
    "            all_answers.append('C')\n",
    "        elif 500 < x < 600:\n",
    "            all_answers.append('D')\n",
    "        elif 600 < x < 700:\n",
    "            all_answers.append('E')"
   ]
  },
  {
   "cell_type": "code",
   "execution_count": 4,
   "metadata": {},
   "outputs": [],
   "source": [
    "def get_full_choices(image):\n",
    "    crop = image[690:2800, 430:2100]\n",
    "    height = 300\n",
    "    width = 740\n",
    "    step_ver = 40\n",
    "    step_hor = 140\n",
    "\n",
    "    start_hor = 0\n",
    "    index = 0\n",
    "    all_answers = []\n",
    "\n",
    "    for col in range(2):\n",
    "        start_ver = 0\n",
    "        for row in range(6):\n",
    "            index += 1\n",
    "            get_5choices(crop[start_ver:start_ver + height, start_hor:start_hor + width], all_answers)\n",
    "            start_ver = start_ver + height + step_ver\n",
    "        start_hor = start_hor + width + step_hor\n",
    "        \n",
    "    return all_answers"
   ]
  },
  {
   "cell_type": "code",
   "execution_count": 5,
   "metadata": {},
   "outputs": [],
   "source": [
    "\n",
    "for fn in fn_ans:\n",
    "    code = fn[:-4]\n",
    "    path = './answer/' + fn\n",
    "    key_img = imread(path)\n",
    "    correct_ans = get_full_choices(key_img)\n",
    "    \n",
    "    keys_dict[code] = correct_ans"
   ]
  },
  {
   "cell_type": "markdown",
   "metadata": {},
   "source": [
    "### Loop through all students' sheets, save to dictionary of dataframes with key = code\n",
    "#### {code: df_of_code}\n",
    "#### df_of_code: columns = [student id, fullname, answers from 1 - 60]"
   ]
  },
  {
   "cell_type": "code",
   "execution_count": 6,
   "metadata": {},
   "outputs": [],
   "source": [
    "dfs_dict = {}\n",
    "\n",
    "col_list = ['ID', 'Fullname']\n",
    "ques_list = [str(x) for x in range(1, 61)]\n",
    "col_list.extend(ques_list)\n",
    "\n",
    "ques_correct= {}"
   ]
  },
  {
   "cell_type": "code",
   "execution_count": 7,
   "metadata": {},
   "outputs": [],
   "source": [
    "for asm in fn_asm:\n",
    "    std_id = asm[:asm.index('_')]\n",
    "    rem = asm[asm.index('_') + 1:]\n",
    "    fullname = rem[:rem.index('_')]\n",
    "#     sname, fname = split_name(fullname)\n",
    "    code = rem[rem.index('_') + 1 : rem.index('.')]\n",
    "    \n",
    "    path = './data/' + asm\n",
    "    sheet = imread(path)\n",
    "    full_choices = get_full_choices(sheet)\n",
    "    \n",
    "    add_list = [std_id, fullname]\n",
    "    add_list.extend(full_choices)\n",
    "    \n",
    "    if code not in dfs_dict:\n",
    "        dfs_dict[code] = pd.DataFrame(columns=col_list)\n",
    "        \n",
    "    df_add = pd.DataFrame([add_list], columns=col_list) \n",
    "    dfs_dict[code] = (dfs_dict[code].append(df_add)).reset_index(drop=True)"
   ]
  },
  {
   "cell_type": "markdown",
   "metadata": {},
   "source": [
    "### Add 2 rows at the end of df\n",
    "#### Row \"key\": keys for all questions\n",
    "#### Row \"correct\": percentage of correct answers in the question"
   ]
  },
  {
   "cell_type": "code",
   "execution_count": 8,
   "metadata": {},
   "outputs": [],
   "source": [
    "for code in dfs_dict:\n",
    "    anss = keys_dict[code]\n",
    "    row_key = ['', '']\n",
    "    row_key.extend(anss)\n",
    "    \n",
    "    row_correct = ['', '']\n",
    "    for q in ques_list:\n",
    "        lst = list(dfs_dict[code][q])\n",
    "        key = anss[int(q) - 1]\n",
    "        correct = lst.count(key) / len(lst)\n",
    "        row_correct.append(correct)\n",
    "        \n",
    "        if code not in ques_correct:\n",
    "            ques_correct[code] = []\n",
    "        \n",
    "        ques_correct[code].append((q, correct))\n",
    "    \n",
    "    df_add = pd.DataFrame([row_key, row_correct], columns=col_list, index=['KEY', 'CORRECT']) \n",
    "    dfs_dict[code] = (dfs_dict[code].append(df_add))"
   ]
  },
  {
   "cell_type": "code",
   "execution_count": 10,
   "metadata": {},
   "outputs": [
    {
     "name": "stdout",
     "output_type": "stream",
     "text": [
      "[CODE 3B] 3 most-difficult questions with percentage of correct answers:  [('26', 0.2), ('27', 0.2), ('28', 0.2)]\n",
      "[CODE 3A] 3 most-difficult questions with percentage of correct answers:  [('27', 0.0), ('28', 0.0), ('31', 0.0)]\n"
     ]
    }
   ],
   "source": [
    "for code in ques_correct:\n",
    "    ques_correct[code].sort(key=lambda x:x[1])\n",
    "    print(f'[CODE {code}] 3 most-difficult questions with percentage of correct answers: ', ques_correct[code][0:3])"
   ]
  },
  {
   "cell_type": "code",
   "execution_count": 14,
   "metadata": {},
   "outputs": [],
   "source": [
    "for code in dfs_dict:\n",
    "    dfs_dict[code].to_csv(f'Stats_question6_Code{code}.csv')"
   ]
  }
 ],
 "metadata": {
  "kernelspec": {
   "display_name": "PyCharm (Intro_CompSci)",
   "language": "python",
   "name": "pycharm-74bda172"
  },
  "language_info": {
   "codemirror_mode": {
    "name": "ipython",
    "version": 3
   },
   "file_extension": ".py",
   "mimetype": "text/x-python",
   "name": "python",
   "nbconvert_exporter": "python",
   "pygments_lexer": "ipython3",
   "version": "3.8.5"
  }
 },
 "nbformat": 4,
 "nbformat_minor": 4
}
