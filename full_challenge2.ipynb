{
 "cells": [
  {
   "cell_type": "markdown",
   "metadata": {},
   "source": [
    "### Import all necessary packages"
   ]
  },
  {
   "cell_type": "code",
   "execution_count": 1,
   "metadata": {},
   "outputs": [],
   "source": [
    "import os\n",
    "import cv2\n",
    "from skimage.io import imread, imshow\n",
    "import numpy as np\n",
    "import pandas as pd"
   ]
  },
  {
   "cell_type": "markdown",
   "metadata": {},
   "source": [
    "### Get all filenames from data folder (students' answer sheets) and answer folder (correct answers of codes)"
   ]
  },
  {
   "cell_type": "code",
   "execution_count": 2,
   "metadata": {},
   "outputs": [],
   "source": [
    "fn_asm = os.listdir('./data') #filename assignments - students' answer sheet\n",
    "fn_ans = os.listdir('./answer') #filename answers - correct answers of all codes"
   ]
  },
  {
   "cell_type": "markdown",
   "metadata": {},
   "source": [
    "### Define all necessary functions"
   ]
  },
  {
   "cell_type": "markdown",
   "metadata": {},
   "source": [
    "#### Split a filename into student id, fullname, code"
   ]
  },
  {
   "cell_type": "code",
   "execution_count": 3,
   "metadata": {},
   "outputs": [],
   "source": [
    "def split_filename(asm):\n",
    "    std_id = asm[:asm.index('_')]\n",
    "    rem = asm[asm.index('_') + 1:]\n",
    "    fullname = rem[:rem.index('_')]\n",
    "    code = rem[rem.index('_') + 1 : rem.index('.')]\n",
    "    \n",
    "    return std_id, fullname, code"
   ]
  },
  {
   "cell_type": "markdown",
   "metadata": {},
   "source": [
    "#### Split a fullname into first name and surname"
   ]
  },
  {
   "cell_type": "code",
   "execution_count": 4,
   "metadata": {},
   "outputs": [],
   "source": [
    "def split_name(fullname: str):\n",
    "    position = []\n",
    "    for i in range(len(fullname)):\n",
    "        if fullname[i].isupper():\n",
    "            position.append(i)\n",
    "            \n",
    "    sname = fullname[:position[1]]\n",
    "    fname = fullname[position[-1]:]\n",
    "    \n",
    "    return sname, fname"
   ]
  },
  {
   "cell_type": "markdown",
   "metadata": {},
   "source": [
    "#### Get choices of every 5 lines"
   ]
  },
  {
   "cell_type": "code",
   "execution_count": 5,
   "metadata": {},
   "outputs": [],
   "source": [
    "def get_5choices(box5, all_answers):\n",
    "    box5 = cv2.cvtColor(box5, cv2.COLOR_BGR2GRAY)\n",
    "\n",
    "    _, thresh = cv2.threshold(box5, 0, 255, cv2.THRESH_BINARY_INV)\n",
    "    cnts, hierarychy = cv2.findContours(thresh, cv2.RETR_TREE, cv2.CHAIN_APPROX_SIMPLE)\n",
    "\n",
    "    choices = []\n",
    "\n",
    "    for cnt in cnts:\n",
    "        area = cv2.contourArea(cnt)\n",
    "        if area > 100:\n",
    "            center = np.round(np.mean(cnt, axis=0)[0]).astype(int)\n",
    "            choices.append(center)\n",
    "\n",
    "    choices.sort(key=lambda x:x[1])\n",
    "    \n",
    "    for choice in choices:\n",
    "        x = choice[0]\n",
    "        if 200 < x < 300:\n",
    "            all_answers.append('A')\n",
    "        elif 300 < x < 400:\n",
    "            all_answers.append('B')\n",
    "        elif 400 < x < 500:\n",
    "            all_answers.append('C')\n",
    "        elif 500 < x < 600:\n",
    "            all_answers.append('D')\n",
    "        elif 600 < x < 700:\n",
    "            all_answers.append('E')"
   ]
  },
  {
   "cell_type": "markdown",
   "metadata": {},
   "source": [
    "#### Get full choices of an answer sheet"
   ]
  },
  {
   "cell_type": "code",
   "execution_count": 6,
   "metadata": {},
   "outputs": [],
   "source": [
    "def get_full_choices(image):\n",
    "    crop = image[690:2800, 430:2100]\n",
    "    height = 300\n",
    "    width = 740\n",
    "    step_ver = 40\n",
    "    step_hor = 140\n",
    "\n",
    "    start_hor = 0\n",
    "    index = 0\n",
    "    all_answers = []\n",
    "\n",
    "    for col in range(2):\n",
    "        start_ver = 0\n",
    "        for row in range(6):\n",
    "            index += 1\n",
    "            get_5choices(crop[start_ver:start_ver + height, start_hor:start_hor + width], all_answers)\n",
    "            start_ver = start_ver + height + step_ver\n",
    "        start_hor = start_hor + width + step_hor\n",
    "        \n",
    "    return all_answers"
   ]
  },
  {
   "cell_type": "markdown",
   "metadata": {},
   "source": [
    "#### Grade a student"
   ]
  },
  {
   "cell_type": "code",
   "execution_count": 7,
   "metadata": {},
   "outputs": [],
   "source": [
    "def grading(choices, code):\n",
    "    global keys_dict\n",
    "    keys = keys_dict[code]\n",
    "    \n",
    "    correct_answers = len([i for i,j in zip(choices, keys) if i == j])\n",
    "    \n",
    "    return round(correct_answers/len(choices), 2)*10"
   ]
  },
  {
   "cell_type": "markdown",
   "metadata": {},
   "source": [
    "### Question 2: Generate student.csv from the data folder"
   ]
  },
  {
   "cell_type": "code",
   "execution_count": 8,
   "metadata": {},
   "outputs": [],
   "source": [
    "StudentID, Surname, Firstname, Code = [], [], [], []\n",
    "\n",
    "for asm in fn_asm:\n",
    "    std_id, fullname, code = split_filename(asm)\n",
    "    sname, fname = split_name(fullname)\n",
    "    \n",
    "    StudentID.append(std_id)\n",
    "    Code.append(code)\n",
    "    Surname.append(sname)\n",
    "    Firstname.append(fname)\n",
    "    \n",
    "stds_df = pd.DataFrame(columns = ['StudentID', 'Surname', 'Firstname', 'Code'], index=range(1,21))\n",
    "stds_df['StudentID'] = StudentID\n",
    "stds_df['Surname'] = Surname\n",
    "stds_df['Firstname'] = Firstname\n",
    "stds_df['Code'] = Code\n",
    "\n",
    "stds_df.to_csv('student.csv', index_label = False)"
   ]
  },
  {
   "cell_type": "markdown",
   "metadata": {},
   "source": [
    "#### Choose 1 student to do Question 3 and Question 4"
   ]
  },
  {
   "cell_type": "code",
   "execution_count": 9,
   "metadata": {},
   "outputs": [
    {
     "name": "stdout",
     "output_type": "stream",
     "text": [
      "Students list:\n",
      "Number: 1 - 2000111_NguyenVanAn_3B\n",
      "Number: 2 - 2000112_LePhanBinh_3B\n",
      "Number: 3 - 2000113_TranDan_3B\n",
      "Number: 4 - 2000114_PhanNhanHy_3B\n",
      "Number: 5 - 2000115_VoMinh_3B\n",
      "Number: 6 - 2000116_TrinhNgoMai_3B\n",
      "Number: 7 - 2000117_DinhThiHao_3B\n",
      "Number: 8 - 2000118_TranHao_3B\n",
      "Number: 9 - 2000119_LeDinhKhai_3B\n",
      "Number: 10 - 2000120_NgoVanLinh_3B\n",
      "Number: 11 - 2000121_NguyenNhan_3A\n",
      "Number: 12 - 2000122_TranQuynh_3A\n",
      "Number: 13 - 2000123_VinhHao_3A\n",
      "Number: 14 - 2000124_DiepTan_3A\n",
      "Number: 15 - 2000125_HoKhoa_3A\n",
      "Number: 16 - 2000126_HoTrung_3A\n",
      "Number: 17 - 2000127_PhamHuy_3A\n",
      "Number: 18 - 2000128_PhuocNguyen_3A\n",
      "Number: 19 - 2000129_NguyenNgoc_3A\n",
      "Number: 20 - 2000130_MinhNhan_3A\n",
      "\n",
      "Choose 1 student to view all answer, input 1 number: 14\n",
      "\n",
      "Student number 14 record: 2000124_DiepTan_3A\n"
     ]
    }
   ],
   "source": [
    "print('Students list:')\n",
    "for i in range(len(fn_asm)):\n",
    "    print(f'Number: {i+1} - {fn_asm[i][:-4]}')\n",
    "\n",
    "std_index = int(input('\\nChoose 1 student to view all answer, input 1 number: ')) - 1\n",
    "\n",
    "print(f'\\nStudent number {std_index + 1} record: {fn_asm[std_index][:-4]}')\n",
    "\n",
    "fn = fn_asm[std_index]\n",
    "\n",
    "path = './data/' + fn\n",
    "image = imread(path)"
   ]
  },
  {
   "cell_type": "markdown",
   "metadata": {},
   "source": [
    "### Question 3: Generating the first 5 answers of one student"
   ]
  },
  {
   "cell_type": "code",
   "execution_count": 10,
   "metadata": {},
   "outputs": [
    {
     "name": "stdout",
     "output_type": "stream",
     "text": [
      "First 5 answers of 2000124_DiepTan_3A: ['C', 'D', 'E', 'E', 'E']\n"
     ]
    }
   ],
   "source": [
    "crop = image[690:2800, 430:2100]\n",
    "first5_box = crop[0:300, 0:730]\n",
    "first5_ans = []\n",
    "\n",
    "get_5choices(first5_box, first5_ans)\n",
    "\n",
    "print(f'First 5 answers of {fn[:-4]}: {first5_ans}')"
   ]
  },
  {
   "cell_type": "markdown",
   "metadata": {},
   "source": [
    "### Question 4: Generating all answers of one student"
   ]
  },
  {
   "cell_type": "code",
   "execution_count": 11,
   "metadata": {},
   "outputs": [
    {
     "name": "stdout",
     "output_type": "stream",
     "text": [
      "All answers of 2000124_DiepTan_3A: \n"
     ]
    },
    {
     "data": {
      "text/html": [
       "<div>\n",
       "<style scoped>\n",
       "    .dataframe tbody tr th:only-of-type {\n",
       "        vertical-align: middle;\n",
       "    }\n",
       "\n",
       "    .dataframe tbody tr th {\n",
       "        vertical-align: top;\n",
       "    }\n",
       "\n",
       "    .dataframe thead th {\n",
       "        text-align: right;\n",
       "    }\n",
       "</style>\n",
       "<table border=\"1\" class=\"dataframe\">\n",
       "  <thead>\n",
       "    <tr style=\"text-align: right;\">\n",
       "      <th></th>\n",
       "      <th>Choice</th>\n",
       "    </tr>\n",
       "  </thead>\n",
       "  <tbody>\n",
       "    <tr>\n",
       "      <th>1</th>\n",
       "      <td>C</td>\n",
       "    </tr>\n",
       "    <tr>\n",
       "      <th>2</th>\n",
       "      <td>D</td>\n",
       "    </tr>\n",
       "    <tr>\n",
       "      <th>3</th>\n",
       "      <td>E</td>\n",
       "    </tr>\n",
       "    <tr>\n",
       "      <th>4</th>\n",
       "      <td>E</td>\n",
       "    </tr>\n",
       "    <tr>\n",
       "      <th>5</th>\n",
       "      <td>E</td>\n",
       "    </tr>\n",
       "    <tr>\n",
       "      <th>6</th>\n",
       "      <td>A</td>\n",
       "    </tr>\n",
       "    <tr>\n",
       "      <th>7</th>\n",
       "      <td>B</td>\n",
       "    </tr>\n",
       "    <tr>\n",
       "      <th>8</th>\n",
       "      <td>B</td>\n",
       "    </tr>\n",
       "    <tr>\n",
       "      <th>9</th>\n",
       "      <td>E</td>\n",
       "    </tr>\n",
       "    <tr>\n",
       "      <th>10</th>\n",
       "      <td>E</td>\n",
       "    </tr>\n",
       "    <tr>\n",
       "      <th>11</th>\n",
       "      <td>A</td>\n",
       "    </tr>\n",
       "    <tr>\n",
       "      <th>12</th>\n",
       "      <td>C</td>\n",
       "    </tr>\n",
       "    <tr>\n",
       "      <th>13</th>\n",
       "      <td>E</td>\n",
       "    </tr>\n",
       "    <tr>\n",
       "      <th>14</th>\n",
       "      <td>D</td>\n",
       "    </tr>\n",
       "    <tr>\n",
       "      <th>15</th>\n",
       "      <td>C</td>\n",
       "    </tr>\n",
       "    <tr>\n",
       "      <th>16</th>\n",
       "      <td>D</td>\n",
       "    </tr>\n",
       "    <tr>\n",
       "      <th>17</th>\n",
       "      <td>C</td>\n",
       "    </tr>\n",
       "    <tr>\n",
       "      <th>18</th>\n",
       "      <td>B</td>\n",
       "    </tr>\n",
       "    <tr>\n",
       "      <th>19</th>\n",
       "      <td>A</td>\n",
       "    </tr>\n",
       "    <tr>\n",
       "      <th>20</th>\n",
       "      <td>B</td>\n",
       "    </tr>\n",
       "    <tr>\n",
       "      <th>21</th>\n",
       "      <td>D</td>\n",
       "    </tr>\n",
       "    <tr>\n",
       "      <th>22</th>\n",
       "      <td>C</td>\n",
       "    </tr>\n",
       "    <tr>\n",
       "      <th>23</th>\n",
       "      <td>A</td>\n",
       "    </tr>\n",
       "    <tr>\n",
       "      <th>24</th>\n",
       "      <td>C</td>\n",
       "    </tr>\n",
       "    <tr>\n",
       "      <th>25</th>\n",
       "      <td>D</td>\n",
       "    </tr>\n",
       "    <tr>\n",
       "      <th>26</th>\n",
       "      <td>E</td>\n",
       "    </tr>\n",
       "    <tr>\n",
       "      <th>27</th>\n",
       "      <td>E</td>\n",
       "    </tr>\n",
       "    <tr>\n",
       "      <th>28</th>\n",
       "      <td>E</td>\n",
       "    </tr>\n",
       "    <tr>\n",
       "      <th>29</th>\n",
       "      <td>B</td>\n",
       "    </tr>\n",
       "    <tr>\n",
       "      <th>30</th>\n",
       "      <td>C</td>\n",
       "    </tr>\n",
       "    <tr>\n",
       "      <th>31</th>\n",
       "      <td>A</td>\n",
       "    </tr>\n",
       "    <tr>\n",
       "      <th>32</th>\n",
       "      <td>C</td>\n",
       "    </tr>\n",
       "    <tr>\n",
       "      <th>33</th>\n",
       "      <td>D</td>\n",
       "    </tr>\n",
       "    <tr>\n",
       "      <th>34</th>\n",
       "      <td>C</td>\n",
       "    </tr>\n",
       "    <tr>\n",
       "      <th>35</th>\n",
       "      <td>B</td>\n",
       "    </tr>\n",
       "    <tr>\n",
       "      <th>36</th>\n",
       "      <td>D</td>\n",
       "    </tr>\n",
       "    <tr>\n",
       "      <th>37</th>\n",
       "      <td>C</td>\n",
       "    </tr>\n",
       "    <tr>\n",
       "      <th>38</th>\n",
       "      <td>E</td>\n",
       "    </tr>\n",
       "    <tr>\n",
       "      <th>39</th>\n",
       "      <td>E</td>\n",
       "    </tr>\n",
       "    <tr>\n",
       "      <th>40</th>\n",
       "      <td>E</td>\n",
       "    </tr>\n",
       "    <tr>\n",
       "      <th>41</th>\n",
       "      <td>B</td>\n",
       "    </tr>\n",
       "    <tr>\n",
       "      <th>42</th>\n",
       "      <td>C</td>\n",
       "    </tr>\n",
       "    <tr>\n",
       "      <th>43</th>\n",
       "      <td>A</td>\n",
       "    </tr>\n",
       "    <tr>\n",
       "      <th>44</th>\n",
       "      <td>E</td>\n",
       "    </tr>\n",
       "    <tr>\n",
       "      <th>45</th>\n",
       "      <td>E</td>\n",
       "    </tr>\n",
       "    <tr>\n",
       "      <th>46</th>\n",
       "      <td>A</td>\n",
       "    </tr>\n",
       "    <tr>\n",
       "      <th>47</th>\n",
       "      <td>B</td>\n",
       "    </tr>\n",
       "    <tr>\n",
       "      <th>48</th>\n",
       "      <td>C</td>\n",
       "    </tr>\n",
       "    <tr>\n",
       "      <th>49</th>\n",
       "      <td>A</td>\n",
       "    </tr>\n",
       "    <tr>\n",
       "      <th>50</th>\n",
       "      <td>D</td>\n",
       "    </tr>\n",
       "    <tr>\n",
       "      <th>51</th>\n",
       "      <td>A</td>\n",
       "    </tr>\n",
       "    <tr>\n",
       "      <th>52</th>\n",
       "      <td>B</td>\n",
       "    </tr>\n",
       "    <tr>\n",
       "      <th>53</th>\n",
       "      <td>A</td>\n",
       "    </tr>\n",
       "    <tr>\n",
       "      <th>54</th>\n",
       "      <td>E</td>\n",
       "    </tr>\n",
       "    <tr>\n",
       "      <th>55</th>\n",
       "      <td>E</td>\n",
       "    </tr>\n",
       "    <tr>\n",
       "      <th>56</th>\n",
       "      <td>B</td>\n",
       "    </tr>\n",
       "    <tr>\n",
       "      <th>57</th>\n",
       "      <td>C</td>\n",
       "    </tr>\n",
       "    <tr>\n",
       "      <th>58</th>\n",
       "      <td>A</td>\n",
       "    </tr>\n",
       "    <tr>\n",
       "      <th>59</th>\n",
       "      <td>B</td>\n",
       "    </tr>\n",
       "    <tr>\n",
       "      <th>60</th>\n",
       "      <td>C</td>\n",
       "    </tr>\n",
       "  </tbody>\n",
       "</table>\n",
       "</div>"
      ],
      "text/plain": [
       "   Choice\n",
       "1       C\n",
       "2       D\n",
       "3       E\n",
       "4       E\n",
       "5       E\n",
       "6       A\n",
       "7       B\n",
       "8       B\n",
       "9       E\n",
       "10      E\n",
       "11      A\n",
       "12      C\n",
       "13      E\n",
       "14      D\n",
       "15      C\n",
       "16      D\n",
       "17      C\n",
       "18      B\n",
       "19      A\n",
       "20      B\n",
       "21      D\n",
       "22      C\n",
       "23      A\n",
       "24      C\n",
       "25      D\n",
       "26      E\n",
       "27      E\n",
       "28      E\n",
       "29      B\n",
       "30      C\n",
       "31      A\n",
       "32      C\n",
       "33      D\n",
       "34      C\n",
       "35      B\n",
       "36      D\n",
       "37      C\n",
       "38      E\n",
       "39      E\n",
       "40      E\n",
       "41      B\n",
       "42      C\n",
       "43      A\n",
       "44      E\n",
       "45      E\n",
       "46      A\n",
       "47      B\n",
       "48      C\n",
       "49      A\n",
       "50      D\n",
       "51      A\n",
       "52      B\n",
       "53      A\n",
       "54      E\n",
       "55      E\n",
       "56      B\n",
       "57      C\n",
       "58      A\n",
       "59      B\n",
       "60      C"
      ]
     },
     "execution_count": 11,
     "metadata": {},
     "output_type": "execute_result"
    }
   ],
   "source": [
    "all_ans = get_full_choices(image)\n",
    "\n",
    "print(f'All answers of {fn[:-4]}: ')\n",
    "pd.set_option('display.max_rows', None)\n",
    "std_anss = pd.DataFrame(index = range(1, 61), columns = ['Choice'])\n",
    "std_anss['Choice'] = all_ans\n",
    "\n",
    "std_anss"
   ]
  },
  {
   "cell_type": "markdown",
   "metadata": {},
   "source": [
    "### Question 5: Generate grading.csv"
   ]
  },
  {
   "cell_type": "markdown",
   "metadata": {},
   "source": [
    "#### Create a dictionary of correct answers for each code"
   ]
  },
  {
   "cell_type": "code",
   "execution_count": 12,
   "metadata": {},
   "outputs": [],
   "source": [
    "keys_dict = {}\n",
    "\n",
    "for fn in fn_ans:\n",
    "    code = fn[:-4]\n",
    "    path = './answer/' + fn\n",
    "    key_img = imread(path)\n",
    "    correct_ans = get_full_choices(key_img)\n",
    "    \n",
    "    keys_dict[code] = correct_ans"
   ]
  },
  {
   "cell_type": "code",
   "execution_count": 13,
   "metadata": {},
   "outputs": [],
   "source": [
    "all_id = []\n",
    "grades = []\n",
    "\n",
    "for asm in fn_asm:\n",
    "    std_id, fullname, code = split_filename(asm)\n",
    "    \n",
    "    path = './data/' + asm\n",
    "    sheet = imread(path)\n",
    "    full_choices = get_full_choices(sheet)\n",
    "    \n",
    "    all_id.append(std_id)\n",
    "    grades.append(grading(full_choices, code))\n",
    "    \n",
    "df_grades = pd.DataFrame(columns=['Student ID', 'Grades'], index=range(1, len(fn_asm)+1))\n",
    "df_grades['Student ID'] = all_id\n",
    "df_grades['Grades'] = grades\n",
    "\n",
    "df_grades.to_csv('grading.csv')"
   ]
  },
  {
   "cell_type": "markdown",
   "metadata": {},
   "source": [
    "### Question 6: Summary which 3 question are the most difficult"
   ]
  },
  {
   "cell_type": "markdown",
   "metadata": {},
   "source": [
    "#### Loop through all students' sheets, save to dictionary of dataframes with key = code\n",
    "#### {code: df_of_code}\n",
    "#### df_of_code: columns = [student id, fullname, answers from 1 - 60]"
   ]
  },
  {
   "cell_type": "code",
   "execution_count": 14,
   "metadata": {},
   "outputs": [],
   "source": [
    "dfs_dict = {}\n",
    "\n",
    "col_list = ['ID', 'Fullname']\n",
    "ques_list = [str(x) for x in range(1, 61)]\n",
    "col_list.extend(ques_list)\n",
    "\n",
    "ques_correct= {}\n",
    "\n",
    "for asm in fn_asm:\n",
    "    std_id, fullname, code = split_filename(asm)\n",
    "    \n",
    "    path = './data/' + asm\n",
    "    sheet = imread(path)\n",
    "    full_choices = get_full_choices(sheet)\n",
    "    \n",
    "    add_list = [std_id, fullname]\n",
    "    add_list.extend(full_choices)\n",
    "    \n",
    "    if code not in dfs_dict:\n",
    "        dfs_dict[code] = pd.DataFrame(columns=col_list)\n",
    "        \n",
    "    df_add = pd.DataFrame([add_list], columns=col_list) \n",
    "    dfs_dict[code] = (dfs_dict[code].append(df_add)).reset_index(drop=True)"
   ]
  },
  {
   "cell_type": "markdown",
   "metadata": {},
   "source": [
    "#### Add 2 rows at the end of df\n",
    "#### Row \"key\": keys for all questions\n",
    "#### Row \"correct\": percentage of correct answers in the question"
   ]
  },
  {
   "cell_type": "code",
   "execution_count": 15,
   "metadata": {},
   "outputs": [
    {
     "name": "stdout",
     "output_type": "stream",
     "text": [
      "[CODE 3B] 3 most-difficult questions with percentage of correct answers:  [('26', 0.2), ('27', 0.2), ('28', 0.2)]\n",
      "[CODE 3A] 3 most-difficult questions with percentage of correct answers:  [('27', 0.0), ('28', 0.0), ('31', 0.0)]\n"
     ]
    }
   ],
   "source": [
    "for code in dfs_dict:\n",
    "    anss = keys_dict[code]\n",
    "    row_key = ['', '']\n",
    "    row_key.extend(anss)\n",
    "    \n",
    "    row_correct = ['', '']\n",
    "    for q in ques_list:\n",
    "        lst = list(dfs_dict[code][q])\n",
    "        key = anss[int(q) - 1]\n",
    "        correct = lst.count(key) / len(lst)\n",
    "        row_correct.append(correct)\n",
    "        \n",
    "        if code not in ques_correct:\n",
    "            ques_correct[code] = []\n",
    "        \n",
    "        ques_correct[code].append((q, correct))\n",
    "    \n",
    "    df_add = pd.DataFrame([row_key, row_correct], columns=col_list, index=['KEY', 'CORRECT']) \n",
    "    dfs_dict[code] = (dfs_dict[code].append(df_add))\n",
    "    \n",
    "for code in ques_correct:\n",
    "    ques_correct[code].sort(key=lambda x:x[1])\n",
    "    print(f'[CODE {code}] 3 most-difficult questions with percentage of correct answers: ', ques_correct[code][0:3])"
   ]
  },
  {
   "cell_type": "markdown",
   "metadata": {},
   "source": [
    "#### Save stats of each code into csv files"
   ]
  },
  {
   "cell_type": "code",
   "execution_count": 16,
   "metadata": {},
   "outputs": [],
   "source": [
    "for code in dfs_dict:\n",
    "    dfs_dict[code].to_csv(f'Stats_question6_Code{code}.csv')"
   ]
  },
  {
   "cell_type": "markdown",
   "metadata": {},
   "source": [
    "### Question 7: Generate final results (pass/fail) of the class"
   ]
  },
  {
   "cell_type": "code",
   "execution_count": 17,
   "metadata": {},
   "outputs": [],
   "source": [
    "all_id = []\n",
    "grades = []\n",
    "pass_fail = []\n",
    "\n",
    "for asm in fn_asm:\n",
    "    std_id, fullname, code = split_filename(asm)\n",
    "    \n",
    "    path = './data/' + asm\n",
    "    sheet = imread(path)\n",
    "    full_choices = get_full_choices(sheet)\n",
    "    grade = grading(full_choices, code)\n",
    "    \n",
    "    all_id.append(std_id)\n",
    "    grades.append(grade)\n",
    "    if grade >=6.5:\n",
    "        pass_fail.append('pass')\n",
    "    else:\n",
    "        pass_fail.append('fail')\n",
    "        \n",
    "df_result = pd.DataFrame(columns=['Student ID', 'Grades', 'Pass/Fail'], index=range(1, len(fn_asm)+1))\n",
    "df_result['Student ID'] = all_id\n",
    "df_result['Grades'] = grades\n",
    "df_result['Pass/Fail'] = pass_fail\n",
    "\n",
    "df_result.to_csv('FinalResult.csv')"
   ]
  }
 ],
 "metadata": {
  "kernelspec": {
   "display_name": "PyCharm (Intro_CompSci)",
   "language": "python",
   "name": "pycharm-74bda172"
  },
  "language_info": {
   "codemirror_mode": {
    "name": "ipython",
    "version": 3
   },
   "file_extension": ".py",
   "mimetype": "text/x-python",
   "name": "python",
   "nbconvert_exporter": "python",
   "pygments_lexer": "ipython3",
   "version": "3.8.5"
  }
 },
 "nbformat": 4,
 "nbformat_minor": 4
}
